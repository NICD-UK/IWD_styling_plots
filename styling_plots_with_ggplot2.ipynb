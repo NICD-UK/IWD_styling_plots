---
title: "Practical ggplot2"
output:
  html_document: default
  pdf_document: default
---

```{r setup, include=FALSE}
knitr::opts_chunk$set(echo = TRUE)
```

## Introduction
This practical exercise builds upon existing ggplot2 resources. 

The __<span style="color: #4FE18F;">first part</span>__ of the notebook will walk you through the the different elements that make up a plot and highlight tips that will help with practical code implementation of ggplot2. It is a condensed version of an online workshop delivered by a member of the Tidyverse team, Thomas Lin Pedersen, which can be viewed on [YouTube](https://www.youtube.com/watch?v=h29g21z0a68). 

The __<span style="color: #4FE18F;">second part</span>__ of the notebook provides a practical framework to develop a consistent design style for yourself or your organisation. 

## <span style="background-color: #4FE18F;">Part 1: The grammar of graphics</span>
ggplot2 is an implementation of the theoretical framework for constructing data visualisations known as the Grammar of Graphics. 

Rather than thinking of data visualisations as entirely separate entities, e.g., box plot, line chart, bar chart, scatter plot, the Grammar of Graphics breaks all data visualisations into eight constituent parts, which are layered on top of each other. The theory explains the relationships between these eight parts: 

- theme
- coordinates
- facets
- geometries
- scales
- statistics
- mapping
- data 

This approach means you are not limited to a set of predefined data visualizations. You can build plots from the bottom up, and tailor them however you prefer.

In the sections below we will use the Grammar of Graphics framework to explore how to create plots with ggplot2.

### Dependencies

```{r message=FALSE}
# load libraries
library(ggplot2)
library(dplyr)

# load data
data("diamonds")
data("iris")
```


### Data  
##### DATA / mapping / statistics / scales / geometries / facets / coordinates / theme

- ggplot() initialises a ggplot object
- It can be used to declare:
  - the input data frame  *(__data__)*
  - plot aesthetics *(__mapping__)*
- The data should be a tidy data frame format
- Use + to combine ggplot2 elements 
- Adding a geometry creates a plot *(__geometries__)*


```{r}
# Data 1
# Data can be added to ggplot(). If set here the data and mapping values will be inherited by subsequent layers.
ggplot(data = iris,
       mapping = aes(x = Sepal.Length, y = Petal.Length)) +
  geom_point()
```

```{r}
# Data 2
# Another method is to set data in the ggplot() element and the mapping in the geom layer. 
ggplot(data = iris) +
 geom_point(mapping = aes(Sepal.Length, Petal.Length))

```

```{r}
# Data 3
# You can also set both the data and the mapping at the geom layer
ggplot() +
  geom_point(data = iris, mapping = aes(x = Sepal.Length, y = Petal.Length))
```

```{r}
# Data 4
# It is common for the arguments not be used
ggplot(iris) +
 geom_point(aes(x = Sepal.Length, y = Petal.Length))
```

> **_Note:_** to create the plot in the example above you only needed to:  
>   - Specify which **data** to use  
>   - Select the aesthetic **mappings**   
>   - Select a **geometry**   
> This is because there are a lot of sensible defaults written into the ggplot2 package that handles the other elements of the plot.  


### Mapping  
##### data / MAPPING / statistics / scales / geometries / facets / coordinates / theme

- Aesthetic mappings link variables in the data to graphical properties in the geometries. 
- They inform the graphics of which variables should be prepresented by the x and y-axes, whether a variable should be represented by a colour, size or shape etc.
- Different geoms have different mapping requirements (e.g., geom_point() requires x and y values and geom_histogram() only requires x values). If you are unsure of a geom's mapping requirements you can check the 'Aesthetics' section of the help documentation (e.g., ?geom_point). 

```{r}
# Mapping 1
# You can map colour to your data using the colour aesthetic. 
# We can use an expression to map the colour, as the x and y values are not passed in as strings. Note that a legend is created when you map a variable to colour.  
ggplot(data = iris) +
 geom_point(mapping = aes(x = Sepal.Length, 
                          y = Petal.Length, 
                          colour = Petal.Length >2)) 
```

```{r message=FALSE}
# Mapping 2
# It is important to remember the difference between mapping a colour and setting a colour
# This is how you set the colour on a plot
ggplot(data = iris) +
 geom_point(mapping = aes(x = Sepal.Length, 
                          y = Petal.Length),
            colour = "purple")
```

```{r message=FALSE}
# Mapping 3
# Some geometries use fill to set the colour inside the graphic
ggplot(data = iris) +
 geom_histogram(mapping = aes(x = Sepal.Length),
            fill = "purple",
            colour = "navy")

```


```{r}
# Mapping 4
# This is how **NOT** to set the colour of a plot
# Do you know what is happening here?
ggplot(data = iris) +
 geom_point(mapping = aes(x = Sepal.Length, 
                          y = Petal.Length,
                          colour = "purple"))
```


> **_Remember:_** If you want to map a colour from the data put it in aes() if you want to set a colour or size put it outside aes().



### Geometries   
##### data / mapping / statistics / scales / GEOMETRIES / facets / coordinates / theme

- Geometries take the scale values and plots them according to a specific geometry
- The same data input can have a vast array of geometric representations
- For example the scatter plot and line plot can take the same the data but you will get a different output
- Geometries can be stacked on top of each other based on your code order

```{r}
# Geometries 1
# In this example you can see that the points sit on top of the line 
ggplot(data = iris) +
  geom_line(mapping = aes(x = Sepal.Length, y = Petal.Length), colour = "pink") +
  geom_point(mapping = aes(x = Sepal.Length, y = Petal.Length)) 
```

```{r}
# In this example the line sits on top of the points 
# This is due to the order of the geometries
ggplot(data = iris) +
  geom_point(mapping = aes(x = Sepal.Length, y = Petal.Length)) +
  geom_line(mapping = aes(x = Sepal.Length, y = Petal.Length), colour = "pink")
```



### Exercises
```{r message=FALSE}
# Colour the two different distributions in two different colours 
ggplot(data = iris) +
  geom_histogram(mapping = aes(x=Petal.Length, fill = Petal.Length>2))

# Colour the distributions in the histogram by whether Petal.Width is greater than 2 
# For each layer there is a position adjustment. For geom_histogram() the default is stack.
ggplot(data = iris) +
  geom_histogram(mapping = aes(x=Petal.Length, fill = Petal.Width>2), position = 'stack')

ggplot(data = iris) +
  geom_histogram(mapping = aes(x=Petal.Length, fill = Petal.Width>2), position = 'identity', alpha = 0.3)


ggplot(data = iris) +
  geom_histogram(mapping = aes(x=Petal.Length, fill = Petal.Width>2), position = 'dodge')

# Add a line that separates the two point distributions. See `?geom_abline` for how to draw straight lines from a slope and intercept.
ggplot(data = iris) +
  geom_point(mapping = aes(x = Sepal.Length, y = Petal.Length)) +
  geom_abline(slope = -0.2, intercept = 3.5)
```

### Statistics  
##### data / mapping / STATISTICS / scales / geometries / facets / coordinates / theme

lues. For example, a bar chart calculates counts and box plots calculate a range of distribution values. The statistics part refers to the calculations that are happening to transform your raw data into the values we want to display on the plot. Every geom has a default statistic. 
[often people think in geoms - you think you want to add bars rather than visualise counts]
```{r}
#geom_bar() uses stat_count() by default 
ggplot(data = diamonds) +
  geom_bar(mapping = aes(x=cut)) +
  ggtitle("geom_bar()")

# we get the same plot because the default geom for stat_count() is geom_bar() 
ggplot(data = diamonds) +
  stat_count(mapping = aes(x=cut)) +
  ggtitle("stat_count()")

# but you can update the geom to something else - normally you wouldn't want to override this.
ggplot(data = diamonds) +
  stat_count(mapping = aes(x=cut), geom = 'point') +
  ggtitle("stat_count()")

diamonds_counted_by_cut = diamonds %>%
  group_by(cut) %>%
  summarise(count = n())

ggplot(data = diamonds_counted_by_cut) +
  geom_bar(mapping = aes(x=cut, y=count),
           stat = 'identity') + # identity stat doesn't compute anything 
  ggtitle("stat = 'identity")

# ggplot2 As this is often used there has been a 
# ggplot2 provide geometries for the most frequently used combinations of statistics and geometries. For example, geom_col() is geom_bar() with the stat set to "identity".
ggplot(data = diamonds_counted_by_cut) +
  geom_col(mapping = aes(x=cut, y=count)) +
  ggtitle("geom_col()")
  

```
You can access the values generated through the stat by using the after_stat() function.
```{r}
#?stat

#geom_bar() uses stat_count() by default 
plot = ggplot(data = diamonds) +
  geom_bar(mapping = 
             aes(
               x = cut,
               y = after_stat(100 * count / sum(count))
               )
           ) #+ labs(y = "Percentage")

# Computed variables are provided in the stat_ documentation
# ?stat_count 
# ?stat_density
# ?stat_boxplot
```

### Stat Exercises
```{r}
#Use `stat_summary()` to add a red dot at the mean `hwy` for each group
ggplot(mpg) + 
  geom_jitter(aes(x = class, y = hwy), width = 0.2) +
  stat_summary(aes(x = class, y = hwy), geom = 'point', fun = mean, colour = 'red')
```


### Scales  
##### data / mapping / statistics / SCALES / geometries / facets / coordinates / theme

A scale that maps our input data to the graphical output. For example, we would like our categories to be represented by colours and numbers by position on the x or y axis.  

When you assign a variable to colour it determines what kind of values are there. Discrete data maps a discrete colour scheme to it. 

```{r}

```


### Facets  
##### data / mapping / statistics / scales / geometries / FACETS / coordinates / theme  
- Facets divide a plot into subplots based on the values of one or more discrete values. 
- It is a good way to avoid overplotting.
- They should not be used to combine separate plots.
You may wish to have multiple plotting areas. It is the layout of your subplots and the layout may have some meaning. 

```{r}
# ~ take the value and map to panel
```

### Coordinates  
##### data / mapping / statistics / scales / geometries / facets / COORDINATES / theme 

- the coordinate system modifies the x and y values
The scaled positions are passed through the coordinate system. You often don't think about it as we are used to the using the cartesian coordinate system but if you work in mapping you will be more familiar with other coordinate systems. It is specific to positional asethetic.
- limits and transformation can be applied in scale or in coord
  - scale will apply it in the beginning
  - coord will apply it at the end
  - you usually want coord if you want to update axses. If you limit the axis with scale it will remove values outside of your scale, whereas if you scale with coord_cartesian you are propertly zooming - you are not affecting the date

- it changes how the data is being drawn
- used in cartography (many ways of transforming longitudes and latitudes)

Other coordinate systems
- coord_cartesian: most plots are drawn in a cartesian coordinate system
- coord_polar: x and y as radius and angle



```{r}

```

### Theme   
##### data / mapping / statistics / scales / geometries / facets / coordinates / THEME 

- Stylistic changes to the plot not related to the data. 
- In ggplot2 theme() is hierarchical in nature
- Part 2 of the workshop covers theme() in detail.


## <span style="background-color: #4FE18F;">Part 2: Designing a consistent design style using theme()</span>


> **Why focus on styling?**

> Decision making is the key competency in data visualization: namely, effective decisions, efficiently made. We can use a design process to facilitate this.

Generating a standard theme based upon good design principals should enable you to work more efficiently. 


### Rectangles, Lines and Text 

When working with theme you need to consider a plot as being made up of:

- Rectangles 
- Lines
- Text 

#### Rectangles
 - <span style="color: #FF709D;">plot background</span>
 - <span style="color: #002D30;">panel background</span>
 - <span style="background-color: black; color: white">legend.key
 - <span style="color: #ffa45a;">legend background</span>
 - <span style="color: #A361FF;">legend box background</span>

```{r, include=TRUE, echo=FALSE}

# Colours
  dark_green <- "#002D30"
  light_grey <- "#F2F2F2"
  green_blue <- "#007883"
  light_green <- "#4FE18F"
  blue <- "#00C3D6"
  pink <- "#FF709D"
  purple <- "#A361FF"
  orange <- "#ffa45a"
# Font  
  font <- "Derailed"

# The plot
ggplot(data = iris) +
  geom_point(mapping = aes(x = Petal.Length, y = Petal.Width, colour = Species)) +
  labs(title = "Differences in flower size by iris species",
       subtitle = "Plot of petal width by petal length",
       caption = "Data source: R") +

  # Theme  
  theme(
    # You can use this to remove all lines from the plot
    #rect = element_blank(),
    
    # Plot rectangle format:
    plot.background = element_rect(fill = pink),
    
    # Panel rectangle format:
    panel.background = element_rect(fill = dark_green),
    #panel.border = element_rect(fill = light_grey, colour = pink), # you probably will never need to use this
    
    legend.key = element_rect(fill = "white"),
    legend.background = element_rect(fill = orange),
    legend.margin = margin(9,9,9,9),
    
    legend.box.background = element_rect(fill = purple, colour = purple),
    legend.box.margin = margin(9,9,9,9),
    )

```

#### Lines
 - <span style="color: #FF709D;">axis ticks</span>
 - <span style="color: #ffa45a;">axis line x</span>
 - <span style="color: #4FE18F;">axis line y</span>
 - <span style="color: #A361FF;">panel grid minor</span>
 - <span style="color: #00C3D6;">panel grid major</span>

```{r, include=TRUE, echo=FALSE}

# Colours
  dark_green <- "#002D30"
  light_grey <- "#F2F2F2"
  green_blue <- "#007883"
  light_green <- "#4FE18F"
  blue <- "#00C3D6"
  pink <- "#FF709D"
  purple <- "#A361FF"
  orange <- "#ffa45a"
# Font  
  font <- "Derailed"

# The plot
ggplot(data = iris) +
  geom_point(mapping = aes(x = Petal.Length, y = Petal.Width, colour = Species)) +
  labs(title = "Differences in flower size by iris species",
       subtitle = "Plot of petal width by petal length",
       caption = "Data source: R") +

  # Theme  
  theme(
    # You can use this to remove all lines from the plot
    #line = element_blank(),
    
    # Update the axis ticks
    axis.ticks = element_line(colour = pink, lineend = "round", size = 2),
    axis.ticks.length = unit(.5, "cm"),
    
    # Update the axis lines
    axis.line.x = element_line(colour = orange, lineend = "round", size = 2),
    axis.line.y = element_line(colour = light_green, lineend = "round", size = 2),
    
    # Update the grid lines
    #panel.grid = element_line(colour = pink),
    panel.grid.minor = element_line(colour = purple),
    panel.grid.major = element_line(colour = blue)
    )

```

#### Text
 - <span style="color: #A361FF;">plot title</span>
 - <span style="color: #00C3D6;">plot subtitle</span>
 - <span style="color: #FF709D;">plot caption</span>
 - <span style="color: #A361FF;">legend title</span>
 - <span style="color: #00C3D6;">legend text</span>
  - <span style="color: #A361FF;">axis title</span>
 - <span style="color: #00C3D6;">axis text</span>
  - <span style="color: #00C3D6;">strip text</span>

```{r, include=TRUE, echo=FALSE}

# Colours
  dark_green <- "#002D30"
  light_grey <- "#F2F2F2"
  green_blue <- "#007883"
  light_green <- "#4FE18F"
  blue <- "#00C3D6"
  pink <- "#FF709D"
  purple <- "#A361FF"
  orange <- "#ffa45a"
# Font  
  font <- "Derailed"

# The plot
ggplot(data = iris) +
  geom_point(mapping = aes(x = Petal.Length, y = Petal.Width, colour = Species)) +
  labs(title = "Differences in flower size by iris species",
       subtitle = "Plot of petal width by petal length",
       caption = "Data source: R") +

  # Theme  
  theme(
    # Title text format:
    # Set the font family and font colour 
    #text = element_text(family=font,
    #                    color=purple),
    
    # Make additional changes (e.g., size, type, margins) to the plot's title, subtitle and caption and the legend title and text here. 
    plot.title = element_text(size=18,
                              face="bold",
                              colour = purple
                              ),
    
    plot.subtitle = element_text(size=12,
                                 margin=margin(9,0,9,0),
                                 colour = blue
                                 ),
    
    plot.caption = element_text(size=10,
                                colour = pink),
    
    # Legend text format:
    legend.title = element_text(size=12, face = "bold"),
    
    legend.text = element_text(size=12),
    
    # Axis text format:
    axis.title = element_text(size=12),
    # SET AS BLANK?
    
    # Notice that the font is pulled through in the text hierarchy but colour is not for axis.text or strip.text
    axis.text = element_text(size=10),
  
    # Strip text 
    strip.text = element_text(size=12, hjust = 0)
    )
```


## Key tips
```{r, eval=FALSE, include=TRUE}
# setting data and aes inside ggplot() sets it at the global layer. Setting it within the geom (e.g., geom_point()) sets if at the geom layer. Normally you would set the data at the global layer and the mapping in the geom layer

# To MAP colours define inside aes(). To set colours define outside aes()

# you can use expressions for mappings e.g. colour = eruptions < 3

# geom histogram only needs one mapping as it calculates the y (this is the statistics layer that is creating the y-axis)

# Geom layers are stacked in the order of the code

# statistics means you don't have to pre-calculate all the values you want to plot. Sometimes the statistics are required. Sometimes it is a choice, e.g. you might have pre-calculated data

```


```{r}
font <- "Derailed"

ggplot(data = iris) +
 geom_point(mapping = aes(x = Sepal.Length, 
                          y = Petal.Length, 
                          colour = Petal.Length >2)) +
  theme(
    plot.title = ggplot2::element_text(family=font,
                            size=28,
                            face="bold",
                            color="#002D30"),
  #This sets the font, size, type and colour of text for the chart's subtitle, as well as setting a margin between the title and the subtitle
  plot.subtitle = ggplot2::element_text(family=font,
                               size=22,
                               margin=ggplot2::margin(9,0,9,0)),
  plot.caption = ggplot2::element_blank(),
  #This leaves the caption text element empty, because it is set elsewhere in the finalise plot function

  #Legend format
  #This sets the position and alignment of the legend, removes a title and background for it and sets the requirements for any text within the legend. The legend may often need some more manual tweaking when it comes to its exact position based on the plot coordinates.
  legend.position = "top",
  legend.text.align = 0,
  legend.background = ggplot2::element_blank(),
  legend.title = ggplot2::element_blank(),
  legend.key = ggplot2::element_blank(),
  legend.text = ggplot2::element_text(family=font,
                             size=18,
                             color="#002D30"),

  #Axis format
  #This sets the text font, size and colour for the axis test, as well as setting the margins and removes lines and ticks. In some cases, axis lines and axis ticks are things we would want to have in the chart - the cookbook shows examples of how to do so.
  axis.title = ggplot2::element_blank(),
  axis.text = ggplot2::element_text(family=font,
                           size=18,
                           color="#002D30"),
  axis.text.x = ggplot2::element_text(margin=ggplot2::margin(5, b = 10)),
  axis.ticks = ggplot2::element_blank(),
  axis.line = ggplot2::element_blank(),

  #Grid lines
  #This removes all minor gridlines and adds major y gridlines. In many cases you will want to change this to remove y gridlines and add x gridlines. The cookbook shows you examples for doing so
  panel.grid.minor = ggplot2::element_blank(),
  panel.grid.major.y = ggplot2::element_line(color="#cbcbcb"),
  panel.grid.major.x = ggplot2::element_blank(),

  #Blank background
  #This sets the panel background as blank, removing the standard grey ggplot background colour from the plot
  panel.background = ggplot2::element_blank(),

  #Strip background (#This sets the panel background for facet-wrapped plots to white, removing the standard grey ggplot background colour and sets the title size of the facet-wrap title to font size 22)
  strip.background = ggplot2::element_rect(fill="white"),
  strip.text = ggplot2::element_text(size  = 22,  hjust = 0)
  ) +
  labs(title = "How life expectancy varies",
       subtitle = "Distribution of life expectancy in 2007")

```

```{r}
ggplot(data = iris) +
 geom_point(mapping = aes(x = Sepal.Length, 
                          y = Petal.Length, 
                          colour = Petal.Length >2)) +
  theme(
    axis.title = element_text(colour = "#FF709D"),
    plot.title = element_text(colour = "#FF709D")
  ) +
  labs(
    title = "Axis Title",
    subtitle = "Insert subtitle",
    caption = "Insert caption",
    tag = "Insert tag",
    alt = "the is alternative text for the plot"
  )

```

```{r}
ggplot(data = iris) +
 geom_point(mapping = aes(x = Sepal.Length, 
                          y = Petal.Length, 
                          colour = Petal.Length >2)) +
  theme(
    axis.text = element_text(colour = "#FF709D"),
    plot.title = element_text(colour = "#FF709D")
  ) +
  labs(title = "Axis Text")

```

```{r}
ggplot(data = iris) +
 geom_point(mapping = aes(x = Sepal.Length, 
                          y = Petal.Length, 
                          colour = Petal.Length >2)) +
  theme(
    axis.ticks = element_line(colour = "#FF709D"),
    plot.title = element_text(colour = "#FF709D")
  ) +
  labs(title = "Axis Ticks")

```

```{r}
ggplot(data = iris) +
 geom_point(mapping = aes(x = Sepal.Length, 
                          y = Petal.Length, 
                          colour = Petal.Length >2)) +
  theme(
    axis.ticks.length = unit(.5, "cm"),
    axis.ticks = element_line(colour = "#FF709D"),
    plot.title = element_text(colour = "#FF709D")
  ) +
  labs(title = "Axis Ticks Length")

```

```{r}
ggplot(data = iris) +
 geom_point(mapping = aes(x = Sepal.Length, 
                          y = Petal.Length, 
                          colour = Petal.Length >2)) +
  theme(
    axis.line = element_line(colour = "#FF709D"),
    plot.title = element_text(colour = "#FF709D")
  ) +
  labs(title = "Axis Line")

```


```{r}
ggplot(data = iris) +
 geom_point(mapping = aes(x = Sepal.Length, 
                          y = Petal.Length, 
                          colour = Petal.Length >2)) +
  theme(
    panel.background = element_rect(fill = "#FF709D"),
    plot.title = element_text(colour = "#FF709D")
  ) +
  labs(title = "Panel Background")

```

```{r}
ggplot(data = iris) +
 geom_point(mapping = aes(x = Sepal.Length, 
                          y = Petal.Length, 
                          colour = Petal.Length >2)) +
  theme(
    panel.grid	 = element_line(colour = "#FF709D"),
    plot.title = element_text(colour = "#FF709D")
  ) +
  labs(title = "Panel Grid")

```

```{r}
ggplot(data = iris) +
 geom_point(mapping = aes(x = Sepal.Length, 
                          y = Petal.Length, 
                          colour = Petal.Length >2)) +
  theme(
    panel.grid.major = element_line(colour = "#FF709D"),
    plot.title = element_text(colour = "#FF709D")
  ) +
  labs(title = "Panel Grid Major")

```
```{r}
ggplot(data = iris) +
 geom_point(mapping = aes(x = Sepal.Length, 
                          y = Petal.Length, 
                          colour = Petal.Length >2)) +
  theme(
    panel.grid.minor =  element_line(colour = "#FF709D"),
    plot.title = element_text(colour = "#FF709D")
  ) +
  labs(title = "Panel Grid Minor")

```

```{r}
ggplot(data = iris) +
 geom_point(mapping = aes(x = Sepal.Length, 
                          y = Petal.Length, 
                          colour = Petal.Length >2)) +
  theme(
    plot.background =  element_rect(fill = "#FF709D"),
    plot.title = element_text(colour = "black")
  ) +
  labs(title = "Plot Background")

```

```{r}
ggplot(data = iris) +
 geom_point(mapping = aes(x = Sepal.Length, 
                          y = Petal.Length, 
                          colour = Petal.Length >2)) +
  theme(
    panel.grid.minor =  element_line(colour = "#FF709D"),
    plot.title = element_text(colour = "#FF709D")
  ) +
  labs(title = "Panel Grid Minor")

```

```{r}
ggplot(data = iris) +
 geom_point(mapping = aes(x = Sepal.Length, 
                          y = Petal.Length, 
                          colour = Petal.Length >2)) +
  theme(
    line = element_line(colour = "purple"),
    rect = element_rect(fill= "#FF709D"),
    text = element_text(colour = "blue")
  ) +
  labs(title = "Legend Background")

```


```{r eval=FALSE}
theme(
  line,
  rect,
  text,
  title,
  aspect.ratio,
  axis.title,
  axis.title.x,
  axis.title.x.top,
  axis.title.x.bottom,
  axis.title.y,
  axis.title.y.left,
  axis.title.y.right,
  axis.text,
  axis.text.x,
  axis.text.x.top,
  axis.text.x.bottom,
  axis.text.y,
  axis.text.y.left,
  axis.text.y.right,
  axis.ticks,
  axis.ticks.x,
  axis.ticks.x.top,
  axis.ticks.x.bottom,
  axis.ticks.y,
  axis.ticks.y.left,
  axis.ticks.y.right,
  axis.ticks.length,
  axis.ticks.length.x,
  axis.ticks.length.x.top,
  axis.ticks.length.x.bottom,
  axis.ticks.length.y,
  axis.ticks.length.y.left,
  axis.ticks.length.y.right,
  axis.line,
  axis.line.x,
  axis.line.x.top,
  axis.line.x.bottom,
  axis.line.y,
  axis.line.y.left,
  axis.line.y.right,
  legend.background,
  legend.margin,
  legend.spacing,
  legend.spacing.x,
  legend.spacing.y,
  legend.key,
  legend.key.size,
  legend.key.height,
  legend.key.width,
  legend.text,
  legend.text.align,
  legend.title,
  legend.title.align,
  legend.position,
  legend.direction,
  legend.justification,
  legend.box,
  legend.box.just,
  legend.box.margin,
  legend.box.background,
  legend.box.spacing,
  panel.background,
  panel.border,
  panel.spacing,
  panel.spacing.x,
  panel.spacing.y,
  panel.grid,
  panel.grid.major,
  panel.grid.minor,
  panel.grid.major.x,
  panel.grid.major.y,
  panel.grid.minor.x,
  panel.grid.minor.y,
  panel.ontop,
  plot.background,
  plot.title,
  plot.title.position,
  plot.subtitle,
  plot.caption,
  plot.caption.position,
  plot.tag,
  plot.tag.position,
  plot.margin,
  strip.background,
  strip.background.x,
  strip.background.y,
  strip.placement,
  strip.text,
  strip.text.x,
  strip.text.y,
  strip.switch.pad.grid,
  strip.switch.pad.wrap,
  ...,
  complete = FALSE,
  validate = TRUE
)
```


## The Element Theme

The element_ functions specify the display of how non-data components of the plot are drawn.

- element_blank(): draws nothing, and assigns no space
- element_rect(): borders and backgrounds
- element_line(): lines
- element_text(): text

## element_blank()
```{r eval=FALSE}
element_blank()
```

## element_rect()

```{r, eval=FALSE, include=TRUE}
element_rect(
  fill = NULL,
  colour = NULL,
  size = NULL,
  linetype = NULL,
  color = NULL,
  inherit.blank = FALSE
)
```


## element_line()

```{r, eval=FALSE, include=TRUE}
element_line(
   colour = NULL,
   size = NULL,
   linetype = NULL,
   lineend = NULL,
   color = NULL,
   arrow = NULL,
   inherit.blank = FALSE
)
```

## element_text()

```{r eval=FALSE}
element_text(
  family = NULL,
  face = NULL,
  colour = NULL,
  size = NULL,
  hjust = NULL,
  vjust = NULL,
  angle = NULL,
  lineheight = NULL,
  color = NULL,
  margin = NULL,
  debug = NULL,
  inherit.blank = FALSE
)
```



```


### Other helpful resources
- [ggplot2 cheatsheet](https://github.com/rstudio/cheatsheets/blob/main/data-visualization.pdf)
- [Theme() documentation](https://ggplot2.tidyverse.org/reference/theme.html)
- [](https://ggplot2.tidyverse.org/articles/ggplot2-specs.html
- http://www.sthda.com/english/wiki/ggplot2-essentials
- https://bbc.github.io/rcookbook/
