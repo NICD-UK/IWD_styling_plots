{
 "cells": [
  {
   "cell_type": "markdown",
   "metadata": {},
   "source": [
    "## Introduction\n",
    "\n",
    "This practical exercise builds upon existing ggplot2 resources.\n",
    "\n",
    "The **<span style=\"color: #4FE18F;\">first part</span>** of the notebook\n",
    "will walk you through the the different elements that make up a plot and\n",
    "highlight tips that will help with practical code implementation of\n",
    "ggplot2. It is a condensed version of an online workshop delivered by a\n",
    "member of the Tidyverse team, Thomas Lin Pedersen, which can be viewed\n",
    "on [YouTube](https://www.youtube.com/watch?v=h29g21z0a68).\n",
    "\n",
    "The **<span style=\"color: #4FE18F;\">second part</span>** of the notebook\n",
    "provides a practical framework to develop a consistent design style for\n",
    "yourself or your organisation.\n",
    "\n",
    "## <span style=\"background-color: #4FE18F;\">Part 1: The grammar of graphics</span>\n",
    "\n",
    "ggplot2 is an implementation of the theoretical framework for\n",
    "constructing data visualisations known as the Grammar of Graphics.\n",
    "\n",
    "Rather than thinking of data visualisations as entirely separate\n",
    "entities, e.g., box plot, line chart, bar chart, scatter plot, the\n",
    "Grammar of Graphics breaks all data visualisations into eight\n",
    "constituent parts, which are layered on top of each other. The theory\n",
    "explains the relationships between these eight parts:\n",
    "\n",
    "-   theme\n",
    "-   coordinates\n",
    "-   facets\n",
    "-   geometries\n",
    "-   scales\n",
    "-   statistics\n",
    "-   mapping\n",
    "-   data\n",
    "\n",
    "This approach means you are not limited to a set of predefined data\n",
    "visualisations. You can build plots from the bottom up, and tailor them\n",
    "however you prefer.\n",
    "\n",
    "In the sections below we will use the Grammar of Graphics framework to\n",
    "explore how to create plots with ggplot2.\n",
    "\n",
    "### Dependencies and data sets\n",
    "\n",
    "This document comes with a list of required libraries: *‘ggplot2’* and\n",
    "*‘dplyr’*. We will use two of the build-in data sets *‘diamonds’* and\n",
    "*‘iris’*.\n",
    "\n",
    "### The grammar of graphics: Data\n",
    "\n",
    "##### **DATA** / mapping / statistics / scales / geometries / facets / coordinates / theme\n",
    "\n",
    "-   `ggplot()` initialises a ggplot object\n",
    "-   It can be used to declare:\n",
    "    -   the input data frame *(**data**)*\n",
    "    -   plot aesthetics *(**mapping**)*\n",
    "-   The data should be a tidy data frame format\n",
    "-   Use `+` to combine ggplot2 elements\n",
    "-   Adding a geometry creates a plot *(**geometries**)*"
   ]
  },
  {
   "cell_type": "code",
   "execution_count": null,
   "metadata": {},
   "outputs": [],
   "source": [
    "# Data 1\n",
    "# Data can be added to ggplot(). If set here the data and mapping values will be inherited by subsequent layers.\n",
    "ggplot(data = iris,\n",
    "       mapping = aes(x = Sepal.Length, y = Petal.Length)) +\n",
    "  geom_point()"
   ]
  },
  {
   "cell_type": "code",
   "execution_count": null,
   "metadata": {},
   "outputs": [],
   "source": [
    "# Data 2\n",
    "# Another method is to set data in the ggplot() element and the mapping in the geom layer. \n",
    "ggplot(data = iris) +\n",
    " geom_point(mapping = aes(Sepal.Length, Petal.Length))"
   ]
  },
  {
   "cell_type": "code",
   "execution_count": null,
   "metadata": {},
   "outputs": [],
   "source": [
    "# Data 3\n",
    "# You can also set both the data and the mapping at the geom layer\n",
    "ggplot() +\n",
    "  geom_point(data = iris, mapping = aes(x = Sepal.Length, y = Petal.Length))"
   ]
  },
  {
   "cell_type": "code",
   "execution_count": null,
   "metadata": {},
   "outputs": [],
   "source": [
    "# Data 4\n",
    "# It is common for the arguments not be used\n",
    "ggplot(iris) +\n",
    " geom_point(aes(x = Sepal.Length, y = Petal.Length))"
   ]
  },
  {
   "cell_type": "markdown",
   "metadata": {},
   "source": [
    "> ***Note:*** to create the plot in the example above you only needed\n",
    "> to:  \n",
    "> - Specify which **data** to use  \n",
    "> - Select the aesthetic **mappings**  \n",
    "> - Select a **geometry**  \n",
    "> This is because there are a lot of sensible defaults written into the\n",
    "> ggplot2 package that handles the other elements of the plot.\n",
    "\n",
    "### The grammar of graphics: Mapping\n",
    "\n",
    "##### data / **MAPPING** / statistics / scales / geometries / facets / coordinates / theme\n",
    "\n",
    "-   Aesthetic mappings link variables in the data to graphical\n",
    "    properties in the geometries.\n",
    "-   They inform the graphics of which variables should be prepresented\n",
    "    by the x and y-axes, whether a variable should be represented by a\n",
    "    colour, size or shape etc.\n",
    "-   Different geoms have different mapping requirements (e.g.,\n",
    "    `geom_point()` requires `x` and `y` values and `geom_histogram()`\n",
    "    only requires `x` values). If you are unsure of a geom’s mapping\n",
    "    requirements you can check the ‘Aesthetics’ section of the help\n",
    "    documentation (e.g., `?geom_point`)."
   ]
  },
  {
   "cell_type": "code",
   "execution_count": null,
   "metadata": {},
   "outputs": [],
   "source": [
    "# Mapping 1\n",
    "# You can map colour to your data using the colour aesthetic. \n",
    "# We can use an expression to map the colour, as the x and y values are not passed in as strings. Note that a legend is created when you map a variable to colour.  \n",
    "ggplot(data = iris) +\n",
    " geom_point(mapping = aes(x = Sepal.Length, \n",
    "                          y = Petal.Length, \n",
    "                          colour = Petal.Length >2)) "
   ]
  },
  {
   "cell_type": "code",
   "execution_count": null,
   "metadata": {},
   "outputs": [],
   "source": [
    "# Mapping 2\n",
    "# It is important to remember the difference between mapping a colour and setting a colour\n",
    "# This is how you set the colour on a plot\n",
    "ggplot(data = iris) +\n",
    " geom_point(mapping = aes(x = Sepal.Length, \n",
    "                          y = Petal.Length),\n",
    "            colour = \"purple\")"
   ]
  },
  {
   "cell_type": "code",
   "execution_count": null,
   "metadata": {},
   "outputs": [],
   "source": [
    "# Mapping 3\n",
    "# Some geometries use fill to set the colour inside the graphic\n",
    "ggplot(data = iris) +\n",
    " geom_histogram(mapping = aes(x = Sepal.Length),\n",
    "            fill = \"purple\",\n",
    "            colour = \"navy\")"
   ]
  },
  {
   "cell_type": "code",
   "execution_count": null,
   "metadata": {},
   "outputs": [],
   "source": [
    "# Mapping 4\n",
    "# This is how **NOT** to set the colour of a plot\n",
    "# Do you know what is happening here?\n",
    "ggplot(data = iris) +\n",
    " geom_point(mapping = aes(x = Sepal.Length, \n",
    "                          y = Petal.Length,\n",
    "                          colour = \"purple\"))"
   ]
  },
  {
   "cell_type": "markdown",
   "metadata": {},
   "source": [
    "> ***Remember:*** If you want to map a colour from the data put it in\n",
    "> `aes()` if you want to set a colour or size put it outside `aes()`.\n",
    "\n",
    "------------------------------------------------------------------------\n",
    "\n",
    "### Exercises\n",
    "\n",
    "Update the code to make the points larger purple triangles and slightly\n",
    "transparent."
   ]
  },
  {
   "cell_type": "code",
   "execution_count": null,
   "metadata": {},
   "outputs": [],
   "source": [
    "ggplot(iris) + \n",
    "  geom_point(aes(x = Sepal.Length, y = Petal.Length))"
   ]
  },
  {
   "cell_type": "markdown",
   "metadata": {},
   "source": [
    "------------------------------------------------------------------------\n",
    "\n",
    "Colour the two distributions in the histogram with different colours."
   ]
  },
  {
   "cell_type": "code",
   "execution_count": null,
   "metadata": {},
   "outputs": [],
   "source": [
    "ggplot(iris) + \n",
    "  geom_histogram(aes(x = Petal.Length))"
   ]
  },
  {
   "cell_type": "markdown",
   "metadata": {},
   "source": [
    "------------------------------------------------------------------------\n",
    "\n",
    "### The grammar of graphics: Geometries\n",
    "\n",
    "##### data / mapping / statistics / scales / **GEOMETRIES** / facets / coordinates / theme\n",
    "\n",
    "-   Geometries take the scale values and plots them according to a\n",
    "    specific geometry\n",
    "-   The same data input can have a vast array of geometric\n",
    "    representations\n",
    "-   For example the scatter plot and line plot can take the same the\n",
    "    data but you will get a different output\n",
    "-   Geometries can be stacked on top of each other based on your code\n",
    "    order"
   ]
  },
  {
   "cell_type": "code",
   "execution_count": null,
   "metadata": {},
   "outputs": [],
   "source": [
    "# Geometries 1\n",
    "# In this example you can see that the points sit on top of the line \n",
    "ggplot(data = iris) +\n",
    "  geom_line(mapping = aes(x = Sepal.Length, y = Petal.Length), colour = \"pink\") +\n",
    "  geom_point(mapping = aes(x = Sepal.Length, y = Petal.Length)) "
   ]
  },
  {
   "cell_type": "code",
   "execution_count": null,
   "metadata": {},
   "outputs": [],
   "source": [
    "# In this example the line sits on top of the points \n",
    "# This is due to the order of the geometries\n",
    "ggplot(data = iris) +\n",
    "  geom_point(mapping = aes(x = Sepal.Length, y = Petal.Length)) +\n",
    "  geom_line(mapping = aes(x = Sepal.Length, y = Petal.Length), colour = \"pink\")"
   ]
  },
  {
   "cell_type": "markdown",
   "metadata": {},
   "source": [
    "### The grammar of graphics: Statistics\n",
    "\n",
    "##### data / mapping / **STATISTICS** / scales / geometries / facets / coordinates / theme\n",
    "\n",
    "The statistics part refers to the calculations that are happening to\n",
    "transform your raw data into the values we want to display on the plot.\n",
    "For example, a bar chart calculates counts and box plots calculate a\n",
    "range of distribution values. - Every geometry has a default statistic.\n",
    "- Every statistic has a default geometry - Both can be used but people\n",
    "are used to thinking in geometries. You visualise bars rather than\n",
    "counts. - You can access the values generated through the stat by using\n",
    "the `after_stat()` function."
   ]
  },
  {
   "cell_type": "code",
   "execution_count": null,
   "metadata": {},
   "outputs": [],
   "source": [
    "#geom_bar() uses stat_count() by default \n",
    "ggplot(data = diamonds) +\n",
    "  geom_bar(mapping = aes(x=cut)) +\n",
    "  ggtitle(\"geom_bar()\")"
   ]
  },
  {
   "cell_type": "code",
   "execution_count": null,
   "metadata": {},
   "outputs": [],
   "source": [
    "# we get the same plot because the default geom for stat_count() is geom_bar() \n",
    "ggplot(data = diamonds) +\n",
    "  stat_count(mapping = aes(x=cut)) +\n",
    "  ggtitle(\"stat_count()\")"
   ]
  },
  {
   "cell_type": "code",
   "execution_count": null,
   "metadata": {},
   "outputs": [],
   "source": [
    "# but you can update the geom to something else - normally you wouldn't want to override this.\n",
    "ggplot(data = diamonds) +\n",
    "  stat_count(mapping = aes(x=cut), geom = 'point') +\n",
    "  ggtitle(\"stat_count()\")"
   ]
  },
  {
   "cell_type": "code",
   "execution_count": null,
   "metadata": {},
   "outputs": [],
   "source": [
    "# You can calculate the statistics yourself and plot the results \n",
    "diamonds_counted_by_cut = diamonds %>%\n",
    "  group_by(cut) %>%\n",
    "  summarise(count = n())\n",
    "\n",
    "ggplot(data = diamonds_counted_by_cut) +\n",
    "  geom_bar(mapping = aes(x=cut, y=count),\n",
    "           stat = 'identity') + # identity stat doesn't compute anything \n",
    "  ggtitle(\"stat = 'identity\")"
   ]
  },
  {
   "cell_type": "code",
   "execution_count": null,
   "metadata": {},
   "outputs": [],
   "source": [
    "# ggplot2 provide geometries for the most frequently used combinations of statistics and geometries. For example, geom_col() is geom_bar() with the stat set to \"identity\".\n",
    "ggplot(data = diamonds_counted_by_cut) +\n",
    "  geom_col(mapping = aes(x=cut, y=count)) +\n",
    "  ggtitle(\"geom_col()\")"
   ]
  },
  {
   "cell_type": "code",
   "execution_count": null,
   "metadata": {},
   "outputs": [],
   "source": [
    "# You can access the values generated through the stat by using the after_stat() function.\n",
    "# Here we will change the counts to percentages\n",
    "#geom_bar() uses stat_count() by default \n",
    "ggplot(data = diamonds) +\n",
    "  geom_bar(mapping = \n",
    "             aes(\n",
    "               x = cut,\n",
    "               y = after_stat(100 * count / sum(count))\n",
    "               )\n",
    "           ) + labs(y = \"Percentage\")"
   ]
  },
  {
   "cell_type": "code",
   "execution_count": null,
   "metadata": {},
   "outputs": [],
   "source": [
    "# Computed variables are provided in the stat_ documentation\n",
    "# ?stat_count \n",
    "# ?stat_density\n",
    "# ?stat_boxplot"
   ]
  },
  {
   "cell_type": "markdown",
   "metadata": {},
   "source": [
    "------------------------------------------------------------------------\n",
    "\n",
    "### Exercise\n",
    "\n",
    "Use `stat_summary()` to add a red dot at the mean `depth` for each group"
   ]
  },
  {
   "cell_type": "code",
   "execution_count": null,
   "metadata": {},
   "outputs": [],
   "source": [
    "ggplot(diamonds) + \n",
    "  geom_jitter(aes(x = cut, y = depth), width = 0.3)"
   ]
  },
  {
   "cell_type": "markdown",
   "metadata": {},
   "source": [
    "Hint: You will need to change the default geom of `stat_summary()`\n",
    "\n",
    "### The grammar of graphics: Scales\n",
    "\n",
    "##### data / mapping / statistics / **SCALES** / geometries / facets / coordinates / theme\n",
    "\n",
    "Scales map our input data to the graphical output. Scales define how the\n",
    "mapping you specify inside `aes()` should happen. All mappings have an\n",
    "associated scale even if not specified. For example, when you assign a\n",
    "variable to `colour` it determines what kind of values they are\n",
    "(discrete or continuous) and scales them accordingly."
   ]
  },
  {
   "cell_type": "code",
   "execution_count": null,
   "metadata": {},
   "outputs": [],
   "source": [
    "ggplot(mpg) + \n",
    "  geom_point(aes(x = displ, y = hwy, colour = class))"
   ]
  },
  {
   "cell_type": "markdown",
   "metadata": {},
   "source": [
    "take control by adding one explicitly. All scales follow the same naming\n",
    "conventions."
   ]
  },
  {
   "cell_type": "code",
   "execution_count": null,
   "metadata": {},
   "outputs": [],
   "source": [
    "ggplot(mpg) + \n",
    "  geom_point(aes(x = displ, y = hwy, colour = class)) +\n",
    "  scale_color_manual(values = c(\"pink\", \"purple\", \"blue\", \"red\", \"green\", \"navy\", \"yellow\")) #+"
   ]
  },
  {
   "cell_type": "code",
   "execution_count": null,
   "metadata": {},
   "outputs": [],
   "source": [
    "  #scale_colour_brewer(type = 'qual')"
   ]
  },
  {
   "cell_type": "markdown",
   "metadata": {},
   "source": [
    "Positional mappings (x and y) also have associated scales."
   ]
  },
  {
   "cell_type": "code",
   "execution_count": null,
   "metadata": {},
   "outputs": [],
   "source": [
    "ggplot(mpg) + \n",
    "  geom_point(aes(x = displ, y = hwy)) + \n",
    "  scale_x_continuous(breaks = c(3, 5, 6)) + \n",
    "  scale_y_continuous(trans = 'log10')"
   ]
  },
  {
   "cell_type": "markdown",
   "metadata": {},
   "source": [
    "### The grammar of graphics: Facets\n",
    "\n",
    "##### data / mapping / statistics / scales / geometries / **FACETS** / coordinates / theme\n",
    "\n",
    "-   Facets divide a plot into subplots based on the values of one or\n",
    "    more discrete values.\n",
    "-   It is a good way to avoid overplotting.\n",
    "-   They should not be used to combine separate plots. You may wish to\n",
    "    have multiple plotting areas. It is the layout of your subplots and\n",
    "    the layout may have some meaning."
   ]
  },
  {
   "cell_type": "code",
   "execution_count": null,
   "metadata": {},
   "outputs": [],
   "source": [
    "# ~ take the value and map to panel"
   ]
  },
  {
   "cell_type": "markdown",
   "metadata": {},
   "source": [
    "### The grammar of graphics: Coordinates\n",
    "\n",
    "##### data / mapping / statistics / scales / geometries / facets / **COORDINATES** / theme\n",
    "\n",
    "-   the coordinate system modifies the x and y values The scaled\n",
    "    positions are passed through the coordinate system. You often don’t\n",
    "    think about it as we are used to the using the cartesian coordinate\n",
    "    system but if you work in mapping you will be more familiar with\n",
    "    other coordinate systems. It is specific to positional asethetic.\n",
    "-   limits and transformation can be applied in scale or in coord\n",
    "    -   scale will apply it in the beginning\n",
    "    -   coord will apply it at the end\n",
    "    -   you usually want coord if you want to update axses. If you limit\n",
    "        the axis with scale it will remove values outside of your scale,\n",
    "        whereas if you scale with coord_cartesian you are propertly\n",
    "        zooming - you are not affecting the date\n",
    "-   it changes how the data is being drawn\n",
    "-   used in cartography (many ways of transforming longitudes and\n",
    "    latitudes)\n",
    "\n",
    "Other coordinate systems - coord_cartesian: most plots are drawn in a\n",
    "cartesian coordinate system - coord_polar: x and y as radius and angle\n",
    "\n",
    "### The grammar of graphics: Theme\n",
    "\n",
    "##### data / mapping / statistics / scales / geometries / facets / coordinates / **THEME**\n",
    "\n",
    "-   Stylistic changes to the plot not related to the data.\n",
    "-   In ggplot2 theme() is hierarchical in nature\n",
    "-   Part 2 of the workshop covers theme() in detail.\n",
    "\n",
    "## <span style=\"background-color: #4FE18F;\">Part 2: Designing a consistent design style using theme()</span>\n",
    "\n",
    "> **Why focus on styling?** Decision making is the key competency in\n",
    "> data visualisation. We need to make effective decisions efficiently.\n",
    "> We can use a design process to facilitate effective decision making\n",
    "> and we can adopt a standard theme, based upon good design principals,\n",
    "> to streamline the final presentation work.\n",
    "\n",
    "### `theme()` arguments"
   ]
  },
  {
   "cell_type": "code",
   "execution_count": null,
   "metadata": {},
   "outputs": [],
   "source": [
    "# this code will not run\n",
    "theme(\n",
    "  line,\n",
    "  rect,\n",
    "  text,\n",
    "  title,\n",
    "  aspect.ratio,\n",
    "  axis.title,\n",
    "  axis.title.x,\n",
    "  axis.title.x.top,\n",
    "  axis.title.x.bottom,\n",
    "  axis.title.y,\n",
    "  axis.title.y.left,\n",
    "  axis.title.y.right,\n",
    "  axis.text,\n",
    "  axis.text.x,\n",
    "  axis.text.x.top,\n",
    "  axis.text.x.bottom,\n",
    "  axis.text.y,\n",
    "  axis.text.y.left,\n",
    "  axis.text.y.right,\n",
    "  axis.ticks,\n",
    "  axis.ticks.x,\n",
    "  axis.ticks.x.top,\n",
    "  axis.ticks.x.bottom,\n",
    "  axis.ticks.y,\n",
    "  axis.ticks.y.left,\n",
    "  axis.ticks.y.right,\n",
    "  axis.ticks.length,\n",
    "  axis.ticks.length.x,\n",
    "  axis.ticks.length.x.top,\n",
    "  axis.ticks.length.x.bottom,\n",
    "  axis.ticks.length.y,\n",
    "  axis.ticks.length.y.left,\n",
    "  axis.ticks.length.y.right,\n",
    "  axis.line,\n",
    "  axis.line.x,\n",
    "  axis.line.x.top,\n",
    "  axis.line.x.bottom,\n",
    "  axis.line.y,\n",
    "  axis.line.y.left,\n",
    "  axis.line.y.right,\n",
    "  legend.background,\n",
    "  legend.margin,\n",
    "  legend.spacing,\n",
    "  legend.spacing.x,\n",
    "  legend.spacing.y,\n",
    "  legend.key,\n",
    "  legend.key.size,\n",
    "  legend.key.height,\n",
    "  legend.key.width,\n",
    "  legend.text,\n",
    "  legend.text.align,\n",
    "  legend.title,\n",
    "  legend.title.align,\n",
    "  legend.position,\n",
    "  legend.direction,\n",
    "  legend.justification,\n",
    "  legend.box,\n",
    "  legend.box.just,\n",
    "  legend.box.margin,\n",
    "  legend.box.background,\n",
    "  legend.box.spacing,\n",
    "  panel.background,\n",
    "  panel.border,\n",
    "  panel.spacing,\n",
    "  panel.spacing.x,\n",
    "  panel.spacing.y,\n",
    "  panel.grid,\n",
    "  panel.grid.major,\n",
    "  panel.grid.minor,\n",
    "  panel.grid.major.x,\n",
    "  panel.grid.major.y,\n",
    "  panel.grid.minor.x,\n",
    "  panel.grid.minor.y,\n",
    "  panel.ontop,\n",
    "  plot.background,\n",
    "  plot.title,\n",
    "  plot.title.position,\n",
    "  plot.subtitle,\n",
    "  plot.caption,\n",
    "  plot.caption.position,\n",
    "  plot.tag,\n",
    "  plot.tag.position,\n",
    "  plot.margin,\n",
    "  strip.background,\n",
    "  strip.background.x,\n",
    "  strip.background.y,\n",
    "  strip.placement,\n",
    "  strip.text,\n",
    "  strip.text.x,\n",
    "  strip.text.y,\n",
    "  strip.switch.pad.grid,\n",
    "  strip.switch.pad.wrap,\n",
    "  ...,\n",
    "  complete = FALSE,\n",
    "  validate = TRUE\n",
    ")"
   ]
  },
  {
   "cell_type": "markdown",
   "metadata": {},
   "source": [
    "### Element functions\n",
    "\n",
    "`theme()` constructs plots as a combination of:\n",
    "\n",
    "-   Rectangles\n",
    "-   Lines\n",
    "-   Text\n",
    "-   Empty space\n",
    "\n",
    "The `element_` functions specify the display of how non-data components\n",
    "of the plot are drawn.\n",
    "\n",
    "-   `element_blank()` draws nothing, and assigns no space\n",
    "-   `element_rect()` borders and backgrounds\n",
    "-   `element_line()` lines\n",
    "-   `element_text()` text\n",
    "\n",
    "### Rectangles\n",
    "\n",
    "`element_rect()`"
   ]
  },
  {
   "cell_type": "code",
   "execution_count": null,
   "metadata": {},
   "outputs": [],
   "source": [
    "# this code will not run\n",
    "element_rect(\n",
    "  fill = NULL,\n",
    "  colour = NULL,\n",
    "  size = NULL,\n",
    "  linetype = NULL,\n",
    "  color = NULL,\n",
    "  inherit.blank = FALSE\n",
    ")"
   ]
  },
  {
   "cell_type": "markdown",
   "metadata": {},
   "source": [
    "-   <span style=\"color: #FF709D;\">plot background</span>\n",
    "-   <span style=\"color: #002D30;\">panel background</span>\n",
    "-   <span style=\"background-color: black; color: white\">legend.key\n",
    "-   <span style=\"color: #ffa45a;\">legend background</span>\n",
    "-   <span style=\"color: #A361FF;\">legend box background</span>"
   ]
  },
  {
   "cell_type": "code",
   "execution_count": null,
   "metadata": {},
   "outputs": [],
   "source": [
    "# Colours\n",
    "  dark_green <- \"#002D30\"\n",
    "  light_grey <- \"#F2F2F2\"\n",
    "  green_blue <- \"#007883\"\n",
    "  light_green <- \"#4FE18F\"\n",
    "  blue <- \"#00C3D6\"\n",
    "  pink <- \"#FF709D\"\n",
    "  purple <- \"#A361FF\"\n",
    "  orange <- \"#ffa45a\"\n",
    "# Font  \n",
    "#  font <- \"Derailed\"\n",
    "\n",
    "# The plot\n",
    "ggplot(data = iris) +\n",
    "  geom_point(mapping = aes(x = Petal.Length, y = Petal.Width, colour = Species)) +\n",
    "  labs(title = \"Differences in flower size by iris species\",\n",
    "       subtitle = \"Plot of petal width by petal length\",\n",
    "       caption = \"Data source: R\") +\n",
    "\n",
    "  # Theme  \n",
    "  theme(\n",
    "    # You can use this to remove all lines from the plot\n",
    "    #rect = element_blank(),\n",
    "    \n",
    "    # Plot rectangle format:\n",
    "    plot.background = element_rect(fill = pink),\n",
    "    \n",
    "    # Panel rectangle format:\n",
    "    panel.background = element_rect(fill = dark_green),\n",
    "    #panel.border = element_rect(fill = light_grey, colour = pink), # you probably will never need to use this\n",
    "    \n",
    "    legend.key = element_rect(fill = \"white\"),\n",
    "    legend.background = element_rect(fill = orange),\n",
    "    legend.margin = margin(9,9,9,9),\n",
    "    \n",
    "    legend.box.background = element_rect(fill = purple, colour = purple),\n",
    "    legend.box.margin = margin(9,9,9,9),\n",
    "    )"
   ]
  },
  {
   "cell_type": "markdown",
   "metadata": {},
   "source": [
    "### Lines\n",
    "\n",
    "`element_line()`"
   ]
  },
  {
   "cell_type": "code",
   "execution_count": null,
   "metadata": {},
   "outputs": [],
   "source": [
    "# this code will not run\n",
    "element_line(\n",
    "   colour = NULL,\n",
    "   size = NULL,\n",
    "   linetype = NULL,\n",
    "   lineend = NULL,\n",
    "   color = NULL,\n",
    "   arrow = NULL,\n",
    "   inherit.blank = FALSE\n",
    ")"
   ]
  },
  {
   "cell_type": "markdown",
   "metadata": {},
   "source": [
    "-   <span style=\"color: #FF709D;\">axis ticks</span>\n",
    "-   <span style=\"color: #ffa45a;\">axis line x</span>\n",
    "-   <span style=\"color: #4FE18F;\">axis line y</span>\n",
    "-   <span style=\"color: #A361FF;\">panel grid minor</span>\n",
    "-   <span style=\"color: #00C3D6;\">panel grid major</span>"
   ]
  },
  {
   "cell_type": "code",
   "execution_count": null,
   "metadata": {},
   "outputs": [],
   "source": [
    "# Colours\n",
    "  dark_green <- \"#002D30\"\n",
    "  light_grey <- \"#F2F2F2\"\n",
    "  green_blue <- \"#007883\"\n",
    "  light_green <- \"#4FE18F\"\n",
    "  blue <- \"#00C3D6\"\n",
    "  pink <- \"#FF709D\"\n",
    "  purple <- \"#A361FF\"\n",
    "  orange <- \"#ffa45a\"\n",
    "# Font  \n",
    "#  font <- \"Derailed\"\n",
    "\n",
    "# The plot\n",
    "ggplot(data = iris) +\n",
    "  geom_point(mapping = aes(x = Petal.Length, y = Petal.Width, colour = Species)) +\n",
    "  labs(title = \"Differences in flower size by iris species\",\n",
    "       subtitle = \"Plot of petal width by petal length\",\n",
    "       caption = \"Data source: R\") +\n",
    "\n",
    "  # Theme  \n",
    "  theme(\n",
    "    # You can use this to remove all lines from the plot\n",
    "    #line = element_blank(),\n",
    "    \n",
    "    # Update the axis ticks\n",
    "    axis.ticks = element_line(colour = pink, lineend = \"round\", size = 2),\n",
    "    axis.ticks.length = unit(.5, \"cm\"),\n",
    "    \n",
    "    # Update the axis lines\n",
    "    axis.line.x = element_line(colour = orange, lineend = \"round\", size = 2),\n",
    "    axis.line.y = element_line(colour = light_green, lineend = \"round\", size = 2),\n",
    "    \n",
    "    # Update the grid lines\n",
    "    #panel.grid = element_line(colour = pink),\n",
    "    panel.grid.minor = element_line(colour = purple),\n",
    "    panel.grid.major = element_line(colour = blue)\n",
    "    )"
   ]
  },
  {
   "cell_type": "markdown",
   "metadata": {},
   "source": [
    "### Text\n",
    "\n",
    "`element_text()`"
   ]
  },
  {
   "cell_type": "code",
   "execution_count": null,
   "metadata": {},
   "outputs": [],
   "source": [
    "# this code will not run\n",
    "element_text(\n",
    "  family = NULL,\n",
    "  face = NULL,\n",
    "  colour = NULL,\n",
    "  size = NULL,\n",
    "  hjust = NULL,\n",
    "  vjust = NULL,\n",
    "  angle = NULL,\n",
    "  lineheight = NULL,\n",
    "  color = NULL,\n",
    "  margin = NULL,\n",
    "  debug = NULL,\n",
    "  inherit.blank = FALSE\n",
    ")"
   ]
  },
  {
   "cell_type": "markdown",
   "metadata": {},
   "source": [
    "-   <span style=\"color: #A361FF;\">plot title</span>\n",
    "-   <span style=\"color: #00C3D6;\">plot subtitle</span>\n",
    "-   <span style=\"color: #FF709D;\">plot caption</span>\n",
    "-   <span style=\"color: #ffa45a;\">legend title</span>\n",
    "-   <span style=\"color: #002D30;\">legend text</span>\n",
    "-   <span style=\"color: #00C3D6;\">axis title x</span>\n",
    "-   <span style=\"color: #4FE18F;\">axis title y</span>\n",
    "-   <span style=\"color: #007883;\">axis text</span>\n",
    "-   \\<span style=“color:”black”;“>strip text</span>"
   ]
  },
  {
   "cell_type": "code",
   "execution_count": null,
   "metadata": {},
   "outputs": [],
   "source": [
    "# Colours\n",
    "  dark_green <- \"#002D30\"\n",
    "  light_grey <- \"#F2F2F2\"\n",
    "  green_blue <- \"#007883\"\n",
    "  light_green <- \"#4FE18F\"\n",
    "  blue <- \"#00C3D6\"\n",
    "  pink <- \"#FF709D\"\n",
    "  purple <- \"#A361FF\"\n",
    "  orange <- \"#ffa45a\"\n",
    "# Font  \n",
    "#  font <- \"Derailed\"\n",
    "\n",
    "# The plot\n",
    "ggplot(data = iris) +\n",
    "  geom_point(mapping = aes(x = Petal.Length, y = Petal.Width, colour = Species)) +\n",
    "  labs(title = \"Differences in flower size by iris species\",\n",
    "       subtitle = \"Plot of petal width by petal length\",\n",
    "       caption = \"Data source: R\") +\n",
    "\n",
    "  # Theme  \n",
    "  theme(\n",
    "    # Title text format:\n",
    "    # Set the font family and font colour \n",
    "    #text = element_text(family=font,\n",
    "    #                    color=purple),\n",
    "    \n",
    "    # Make additional changes (e.g., size, type, margins) to the plot's title, subtitle and caption and the legend title and text here. \n",
    "    plot.title = element_text(size=18,\n",
    "                              face=\"bold\",\n",
    "                              colour = purple\n",
    "                              ),\n",
    "    \n",
    "    plot.subtitle = element_text(size=12,\n",
    "                                 margin=margin(9,0,9,0),\n",
    "                                 colour = blue\n",
    "                                 ),\n",
    "    \n",
    "    plot.caption = element_text(size=10,\n",
    "                                colour = pink),\n",
    "    \n",
    "    # Legend text format:\n",
    "    legend.title = element_text(size=12, \n",
    "                                face = \"bold\",\n",
    "                                colour = orange),\n",
    "    \n",
    "    legend.text = element_text(size=12, \n",
    "                               colour = dark_green),\n",
    "    \n",
    "    # Axis text format:\n",
    "    axis.title.y = element_text(size=12, \n",
    "                              colour = light_green),\n",
    "    axis.title.x = element_text(size=12, \n",
    "                              colour = blue),\n",
    "    # SET AS BLANK?\n",
    "    \n",
    "    # Notice that the font is pulled through in the text hierarchy but colour is not for axis.text or strip.text\n",
    "    axis.text = element_text(size=10,\n",
    "                             colour = green_blue),\n",
    "  \n",
    "    # Strip text \n",
    "    strip.text = element_text(size=12, \n",
    "                              hjust = 0,\n",
    "                              colour = orange)\n",
    "    )"
   ]
  },
  {
   "cell_type": "markdown",
   "metadata": {},
   "source": [
    "### Exercise\n",
    "\n",
    "For this exercise we will work with the following example plot."
   ]
  },
  {
   "cell_type": "code",
   "execution_count": null,
   "metadata": {},
   "outputs": [],
   "source": [
    "ggplot(data = iris) +\n",
    "  geom_point(mapping = aes(x = Petal.Length, y = Petal.Width, colour = Species)) +\n",
    "  facet_grid(cols = vars(Species)) + \n",
    "  labs(title = \"Differences in flower size by iris species\",\n",
    "       subtitle = \"Plot of petal width by petal length\",\n",
    "       caption = \"Data source: R\")"
   ]
  },
  {
   "cell_type": "markdown",
   "metadata": {},
   "source": [
    "------------------------------------------------------------------------\n",
    "\n",
    "Task:\n",
    "\n",
    "-   Review the [`theme()`\n",
    "    documentation](https://ggplot2.tidyverse.org/reference/theme.html)  \n",
    "-   Update the theme in the code chunk below"
   ]
  },
  {
   "cell_type": "code",
   "execution_count": null,
   "metadata": {},
   "outputs": [],
   "source": [
    "ggplot(data = iris) +\n",
    "  geom_point(mapping = aes(x = Petal.Length, y = Petal.Width, colour = Species)) +\n",
    "  facet_grid(cols = vars(Species)) + \n",
    "  labs(title = \"Differences in flower size by iris species\",\n",
    "       subtitle = \"Plot of petal width by petal length\",\n",
    "       caption = \"Data source: R\") +\n",
    "  theme(\n",
    "    \n",
    "    # RECTANGLES\n",
    "    # element_rect()\n",
    "    #plot.background = element_rect(),\n",
    "    #panel.background = element_rect(),\n",
    "    \n",
    "    #legend.key = element_rect(),\n",
    "    #legend.background = element_rect(),\n",
    "    #legend.margin = margin(),\n",
    "    #legend.position(),\n",
    "    #legend.direction(),\n",
    "    #legend.justification(),\n",
    "    \n",
    "    #legend.box.background = element_rect(),\n",
    "    #legend.box.margin = margin(),\n",
    "    \n",
    "    #panel.spacing(),\n",
    "    \n",
    "    # LINES\n",
    "    #axis.ticks = element_line(),\n",
    "    #axis.ticks.length = unit(.5, \"cm\"),\n",
    "\n",
    "    #axis.line = element_line()\n",
    "    #axis.line.x = element_line(),\n",
    "    #axis.line.y = element_line(),\n",
    "    \n",
    "    #panel.grid = element_line(),\n",
    "    #panel.grid.minor = element_line(),\n",
    "    #panel.grid.major = element_line(),\n",
    "    \n",
    "    # TEXT\n",
    "    #text = element_text(),\n",
    "    #plot.title = element_text(),\n",
    "    #plot.subtitle = element_text(),\n",
    "    #plot.caption = element_text(),\n",
    "  \n",
    "    #legend.title = element_text(),\n",
    "    #legend.title.align(),  \n",
    "    #legend.text = element_text(),\n",
    "    #legend.text.align(),   \n",
    "\n",
    "    \n",
    "    #axis.title = element_text(),\n",
    "    #axis.title.y = element_text(),\n",
    "    #axis.title.x = element_text(),\n",
    "    \n",
    "    #axis.text = element_text(),\n",
    "  \n",
    "    #strip.text = element_text()\n",
    "    \n",
    "    )"
   ]
  },
  {
   "cell_type": "markdown",
   "metadata": {},
   "source": [
    "### Other helpful resources\n",
    "\n",
    "-   [ggplot2\n",
    "    cheatsheet](https://github.com/rstudio/cheatsheets/blob/main/data-visualization.pdf)\n",
    "-   [Theme()\n",
    "    documentation](https://ggplot2.tidyverse.org/reference/theme.html)\n",
    "-   \\[\\](<https://ggplot2.tidyverse.org/articles/ggplot2-specs.html>\n",
    "-   <http://www.sthda.com/english/wiki/ggplot2-essentials>\n",
    "-   <https://bbc.github.io/rcookbook/>"
   ]
  }
 ],
 "nbformat": 4,
 "nbformat_minor": 5,
 "metadata": {
  "kernelspec": {
   "name": "ir",
   "display_name": "R",
   "language": "R"
  }
 }
}
